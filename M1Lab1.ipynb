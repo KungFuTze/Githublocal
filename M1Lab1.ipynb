{
  "nbformat": 4,
  "nbformat_minor": 0,
  "metadata": {
    "colab": {
      "provenance": [],
      "toc_visible": true,
      "include_colab_link": true
    },
    "kernelspec": {
      "name": "python3",
      "display_name": "Python 3"
    },
    "language_info": {
      "name": "python"
    }
  },
  "cells": [
    {
      "cell_type": "markdown",
      "metadata": {
        "id": "view-in-github",
        "colab_type": "text"
      },
      "source": [
        "<a href=\"https://colab.research.google.com/github/KungFuTze/Githublocal/blob/main/M1Lab1.ipynb\" target=\"_parent\"><img src=\"https://colab.research.google.com/assets/colab-badge.svg\" alt=\"Open In Colab\"/></a>"
      ]
    },
    {
      "cell_type": "markdown",
      "metadata": {
        "id": "cnAUJprJdh9_"
      },
      "source": [
        "# Welcome to our first Lab Practice!"
      ]
    },
    {
      "cell_type": "markdown",
      "metadata": {
        "id": "vVYcayGedmms"
      },
      "source": [
        "This lab is all about print() and we are going to print various messages on the screen. Are you ready? Let's get started!"
      ]
    },
    {
      "cell_type": "markdown",
      "metadata": {
        "id": "JP8eGBVyeSQx"
      },
      "source": [
        "You will find some small tasks in sections below. You should use print() and a proper choice of quotation marks to print the **message** on the screen."
      ]
    },
    {
      "cell_type": "markdown",
      "metadata": {
        "id": "TNbXeCDFeAcJ"
      },
      "source": [
        "## Single quotations ' '"
      ]
    },
    {
      "cell_type": "markdown",
      "metadata": {
        "id": "EZ42d1Sue0Zp"
      },
      "source": [
        "###Task: print message **Hello, world!**"
      ]
    },
    {
      "cell_type": "code",
      "metadata": {
        "id": "yDzNIHsSeu85",
        "colab": {
          "base_uri": "https://localhost:8080/"
        },
        "outputId": "c4811d5a-0964-44ab-cd3a-b0d1842b9579"
      },
      "source": [
        "print('Hello, world!')"
      ],
      "execution_count": 1,
      "outputs": [
        {
          "output_type": "stream",
          "name": "stdout",
          "text": [
            "Hello, world!\n"
          ]
        }
      ]
    },
    {
      "cell_type": "markdown",
      "metadata": {
        "id": "-__o8ovbfSEH"
      },
      "source": [
        "###Task: print message **\"Hello, world!\"**\n",
        "\n",
        "Note: the **\" \"** is part of the message and it should be included in the message printed out."
      ]
    },
    {
      "cell_type": "code",
      "metadata": {
        "id": "hOpxhSKog18Y",
        "colab": {
          "base_uri": "https://localhost:8080/"
        },
        "outputId": "c8dbd122-d5c0-49a2-c8e9-2e42126f585e"
      },
      "source": [
        "print('\"Hello, world!\"')"
      ],
      "execution_count": 2,
      "outputs": [
        {
          "output_type": "stream",
          "name": "stdout",
          "text": [
            "\"Hello, world!\"\n"
          ]
        }
      ]
    },
    {
      "cell_type": "markdown",
      "metadata": {
        "id": "NpCNxK68gpME"
      },
      "source": [
        "###Task: print message **\"How are you?\"**\n",
        "\n",
        "Note: the **\" \"** is part of the message and it should be included in the message printed out."
      ]
    },
    {
      "cell_type": "code",
      "metadata": {
        "id": "txg-7uKfgKeW",
        "colab": {
          "base_uri": "https://localhost:8080/"
        },
        "outputId": "8768b2b7-6be3-434f-bc15-ba92f51ba820"
      },
      "source": [
        "print('\"How are you?\"')"
      ],
      "execution_count": 3,
      "outputs": [
        {
          "output_type": "stream",
          "name": "stdout",
          "text": [
            "\"How are you?\"\n"
          ]
        }
      ]
    },
    {
      "cell_type": "markdown",
      "metadata": {
        "id": "D8pWdoN7d6Dy"
      },
      "source": [
        "## Double quotations \" \""
      ]
    },
    {
      "cell_type": "markdown",
      "metadata": {
        "id": "rXgbUIBRgQoG"
      },
      "source": [
        "###Task: print message **Hello, world!** (using \" \")"
      ]
    },
    {
      "cell_type": "code",
      "metadata": {
        "id": "oIKwmW2mfe3d",
        "colab": {
          "base_uri": "https://localhost:8080/"
        },
        "outputId": "ec76adcb-7637-4b12-9f90-3f7f6fdc8e01"
      },
      "source": [
        "print(\"Hello, world!\")"
      ],
      "execution_count": 4,
      "outputs": [
        {
          "output_type": "stream",
          "name": "stdout",
          "text": [
            "Hello, world!\n"
          ]
        }
      ]
    },
    {
      "cell_type": "markdown",
      "metadata": {
        "id": "QPoCScdkheK3"
      },
      "source": [
        "###Task: print message **I'm fine.**"
      ]
    },
    {
      "cell_type": "code",
      "metadata": {
        "id": "tsFowDAKhJCB",
        "colab": {
          "base_uri": "https://localhost:8080/"
        },
        "outputId": "cd77ecbe-49f2-4816-fbe6-96960f5ecc51"
      },
      "source": [
        "print(\"I'm fine.\")"
      ],
      "execution_count": 5,
      "outputs": [
        {
          "output_type": "stream",
          "name": "stdout",
          "text": [
            "I'm fine.\n"
          ]
        }
      ]
    },
    {
      "cell_type": "markdown",
      "metadata": {
        "id": "TE6Df1WYhu10"
      },
      "source": [
        "###Task: print message **It's a great day!**"
      ]
    },
    {
      "cell_type": "code",
      "metadata": {
        "id": "MSjQbhNXhJVV",
        "colab": {
          "base_uri": "https://localhost:8080/"
        },
        "outputId": "394e6fc1-8364-4821-8ac2-42bb72d8d702"
      },
      "source": [
        "print(\"It's a great day!\")"
      ],
      "execution_count": 6,
      "outputs": [
        {
          "output_type": "stream",
          "name": "stdout",
          "text": [
            "It's a great day!\n"
          ]
        }
      ]
    },
    {
      "cell_type": "markdown",
      "metadata": {
        "id": "0dZCPuYjeDqi"
      },
      "source": [
        "## Triple quotations ''' '''"
      ]
    },
    {
      "cell_type": "markdown",
      "metadata": {
        "id": "f-zusksziv_N"
      },
      "source": [
        "###Task: print the poem below\n",
        "\n",
        "**This**\n",
        "\n",
        "**is**\n",
        "\n",
        "**a**\n",
        "\n",
        "**poem**"
      ]
    },
    {
      "cell_type": "code",
      "metadata": {
        "id": "rVF4T_pwhKMM",
        "colab": {
          "base_uri": "https://localhost:8080/"
        },
        "outputId": "056f3ac2-96fa-43d9-898d-0199a16634bc"
      },
      "source": [
        "print(''' This\n",
        "\n",
        "is\n",
        "\n",
        "a\n",
        "\n",
        "poem''')"
      ],
      "execution_count": 7,
      "outputs": [
        {
          "output_type": "stream",
          "name": "stdout",
          "text": [
            " This\n",
            "\n",
            "is\n",
            "\n",
            "a\n",
            "\n",
            "poem\n"
          ]
        }
      ]
    },
    {
      "cell_type": "markdown",
      "metadata": {
        "id": "yls-7KE6kA7o"
      },
      "source": [
        "###Task: print the paragraph below\n",
        "\n",
        "**This is a multi-line**\n",
        "\n",
        "**documentary. It consists**\n",
        "\n",
        "**several sentences and**\n",
        "\n",
        "**might be pages long.**"
      ]
    },
    {
      "cell_type": "code",
      "metadata": {
        "id": "ZZ1XEd29kAIR",
        "colab": {
          "base_uri": "https://localhost:8080/"
        },
        "outputId": "e22fdea9-e164-48a3-a0bc-e581883b80a4"
      },
      "source": [
        "print(''' This is a multi-line\n",
        "\n",
        "documentary. It consists\n",
        "\n",
        "several sentences and\n",
        "\n",
        "might be pages long.''')"
      ],
      "execution_count": 9,
      "outputs": [
        {
          "output_type": "stream",
          "name": "stdout",
          "text": [
            " This is a multi-line\n",
            "\n",
            "documentary. It consists\n",
            "\n",
            "several sentences and\n",
            "\n",
            "might be pages long.\n"
          ]
        }
      ]
    },
    {
      "cell_type": "markdown",
      "metadata": {
        "id": "DsOakqGCeK7V"
      },
      "source": [
        "## Combinations of quotations"
      ]
    },
    {
      "cell_type": "markdown",
      "metadata": {
        "id": "4iCITSR6h7Yv"
      },
      "source": [
        "###Task: print the dialog below\n",
        "\n",
        "**\"How are you?\"**\n",
        "\n",
        "**\"I'm fine.\"**\n",
        "\n",
        "**\"It's a great day!\"**"
      ]
    },
    {
      "cell_type": "code",
      "metadata": {
        "id": "EKsuK9O6jW7D",
        "colab": {
          "base_uri": "https://localhost:8080/"
        },
        "outputId": "3887e435-14d3-4f4d-ed26-0072307ca432"
      },
      "source": [
        "print('''\"How are you?\"\n",
        "\n",
        "\"I'm fine.\"\n",
        "\n",
        "\"It's a great day!\"''')\n"
      ],
      "execution_count": 10,
      "outputs": [
        {
          "output_type": "stream",
          "name": "stdout",
          "text": [
            "\"How are you?\"\n",
            "\n",
            "\"I'm fine.\"\n",
            "\n",
            "\"It's a great day!\"\n"
          ]
        }
      ]
    },
    {
      "cell_type": "code",
      "source": [],
      "metadata": {
        "id": "Nt2akCTFWO-r"
      },
      "execution_count": null,
      "outputs": []
    }
  ]
}